{
 "cells": [
  {
   "cell_type": "markdown",
   "id": "d8e5e23f-d4c2-4596-9b10-198ba29794ac",
   "metadata": {},
   "source": [
    "# 1장. 변수"
   ]
  },
  {
   "cell_type": "markdown",
   "id": "afadd367-dfd2-4768-894a-5a65aa733d0d",
   "metadata": {},
   "source": [
    "## 1. 파이썬 특징\n",
    "- 고수준언어로 읽고 쓰기 쉽다.\n",
    "- 동적 언어로 사용자가 타입을 지정하지 않는다.\n",
    "- 라이브러리가 다양하다.\n",
    "- 코드 구동 방법:\n",
    "    - 대화식 인터프리터 : 작은 단위 테스트에 적합함\n",
    "    - 파일(.py) : 프로그램 만들 때\n",
    "- pythonic: 파이썬 다운 코드"
   ]
  },
  {
   "cell_type": "code",
   "execution_count": 9,
   "id": "ad26ba2f-ff73-4e0e-aa64-7b648073ecab",
   "metadata": {},
   "outputs": [
    {
     "name": "stdout",
     "output_type": "stream",
     "text": [
      "The Zen of Python, by Tim Peters\n",
      "\n",
      "Beautiful is better than ugly.\n",
      "Explicit is better than implicit.\n",
      "Simple is better than complex.\n",
      "Complex is better than complicated.\n",
      "Flat is better than nested.\n",
      "Sparse is better than dense.\n",
      "Readability counts.\n",
      "Special cases aren't special enough to break the rules.\n",
      "Although practicality beats purity.\n",
      "Errors should never pass silently.\n",
      "Unless explicitly silenced.\n",
      "In the face of ambiguity, refuse the temptation to guess.\n",
      "There should be one-- and preferably only one --obvious way to do it.\n",
      "Although that way may not be obvious at first unless you're Dutch.\n",
      "Now is better than never.\n",
      "Although never is often better than *right* now.\n",
      "If the implementation is hard to explain, it's a bad idea.\n",
      "If the implementation is easy to explain, it may be a good idea.\n",
      "Namespaces are one honking great idea -- let's do more of those!\n"
     ]
    }
   ],
   "source": [
    "import this"
   ]
  },
  {
   "cell_type": "markdown",
   "id": "95a04dc2-15b1-4190-a37c-42c7f50781c5",
   "metadata": {},
   "source": [
    "## 2. 데이터\n",
    "- type: 타입, 자료형\n",
    "    - 문자열, 정수, 리스트, 불리언, ... (표 2-1 참조)\n",
    "- 값\n",
    "- 변수: 값이 저장된 메모리를 참조하는 이름표\n",
    "- 할당하다: 값을 변수에 '할당'한다고 표현.\n",
    "    예: a = 1 '1을 a에 할당하다'\n",
    "- 리터럴: 값 자체\n",
    "\n",
    "- 가변성\n",
    "    - 가변 객체: 주소는 그대로인데 값이 변경 가능한 자료형. 예) 리스트\n",
    "    - 불변 객체: 값이 변하면 주소가 변함."
   ]
  },
  {
   "cell_type": "code",
   "execution_count": 1,
   "id": "90643cc4-5f4a-420b-9c79-d903be37c07c",
   "metadata": {},
   "outputs": [],
   "source": [
    "a = 1"
   ]
  },
  {
   "cell_type": "code",
   "execution_count": 2,
   "id": "a427c9c4-8b27-4a47-9f41-916155a8b3a5",
   "metadata": {},
   "outputs": [
    {
     "data": {
      "text/plain": [
       "int"
      ]
     },
     "execution_count": 2,
     "metadata": {},
     "output_type": "execute_result"
    }
   ],
   "source": [
    "type(a)"
   ]
  },
  {
   "cell_type": "code",
   "execution_count": 3,
   "id": "73649fba-2412-4ad6-95d7-f2155fc7aa19",
   "metadata": {},
   "outputs": [
    {
     "data": {
      "text/plain": [
       "4319124112"
      ]
     },
     "execution_count": 3,
     "metadata": {},
     "output_type": "execute_result"
    }
   ],
   "source": [
    "id(a) # 주소값"
   ]
  },
  {
   "cell_type": "code",
   "execution_count": 4,
   "id": "22e20628-e534-4b15-a53f-81be8ea86ab4",
   "metadata": {},
   "outputs": [
    {
     "data": {
      "text/plain": [
       "True"
      ]
     },
     "execution_count": 4,
     "metadata": {},
     "output_type": "execute_result"
    }
   ],
   "source": [
    "# a, b의 주소가 같은지 확인\n",
    "b = 1\n",
    "id(a) == id(b)"
   ]
  },
  {
   "cell_type": "code",
   "execution_count": 5,
   "id": "28dc6862-083e-4ae7-b9a4-2652bf1d7da4",
   "metadata": {},
   "outputs": [
    {
     "data": {
      "text/plain": [
       "4392003584"
      ]
     },
     "execution_count": 5,
     "metadata": {},
     "output_type": "execute_result"
    }
   ],
   "source": [
    "# 가변 객체\n",
    "num = [1, 2, 3]\n",
    "id(num)"
   ]
  },
  {
   "cell_type": "code",
   "execution_count": 6,
   "id": "8b682abb-0e63-4bbd-9d6d-677d5ed212c0",
   "metadata": {},
   "outputs": [
    {
     "data": {
      "text/plain": [
       "[10, 2, 3]"
      ]
     },
     "execution_count": 6,
     "metadata": {},
     "output_type": "execute_result"
    }
   ],
   "source": [
    "num[0] = 10\n",
    "num"
   ]
  },
  {
   "cell_type": "code",
   "execution_count": 7,
   "id": "62098963-f09a-44b8-803e-264a8127889d",
   "metadata": {},
   "outputs": [
    {
     "data": {
      "text/plain": [
       "4392003584"
      ]
     },
     "execution_count": 7,
     "metadata": {},
     "output_type": "execute_result"
    }
   ],
   "source": [
    "id(num) # 변함 없음"
   ]
  },
  {
   "cell_type": "markdown",
   "id": "4ba2c2fc-f988-4aaa-8f61-7b3d1ba01540",
   "metadata": {},
   "source": [
    "## 3. 변수\n",
    "- 특정 값에 붙는 이름\n",
    "- 변수 설정 규칙:\n",
    "    1. 대소문자, 숫자, 언더바(_)만 가능\n",
    "        - 대소문자 구분함: thing vs. Thing\n",
    "        - 모두 대문자인 경우는 특수 케이스\n",
    "        - 숫자는 맨 앞에 나올 수 없다. 예: 4a (x)\n",
    "        - 언더바가 붙는 특수 케이스:\n",
    "            _name, __name, __name__\n",
    "    \n",
    "    => **특수 케이스는 특수한 경우에만 써야 하므로 일반적인 경우 사용하지 않는다.**"
   ]
  },
  {
   "cell_type": "code",
   "execution_count": 8,
   "id": "f91404d6-6424-414e-ba32-5a1addfea029",
   "metadata": {},
   "outputs": [
    {
     "data": {
      "text/plain": [
       "False"
      ]
     },
     "execution_count": 8,
     "metadata": {},
     "output_type": "execute_result"
    }
   ],
   "source": [
    "thing = 'apple'\n",
    "Thing = 'orange'\n",
    "\n",
    "thing == Thing"
   ]
  },
  {
   "cell_type": "markdown",
   "id": "fad1df85-e244-4ada-a853-9fb98a59a6b0",
   "metadata": {},
   "source": [
    "2. 예약어 (키워드)\n",
    "- 특수 구문에 사용되는 키워드로, 변수 이름으로 쓰지 않는다."
   ]
  },
  {
   "cell_type": "code",
   "execution_count": 10,
   "id": "e5b19220-c965-41bc-a245-5e2ec2dedff5",
   "metadata": {
    "collapsed": true,
    "jupyter": {
     "outputs_hidden": true
    },
    "tags": []
   },
   "outputs": [
    {
     "data": {
      "text/plain": [
       "['False',\n",
       " 'None',\n",
       " 'True',\n",
       " 'and',\n",
       " 'as',\n",
       " 'assert',\n",
       " 'async',\n",
       " 'await',\n",
       " 'break',\n",
       " 'class',\n",
       " 'continue',\n",
       " 'def',\n",
       " 'del',\n",
       " 'elif',\n",
       " 'else',\n",
       " 'except',\n",
       " 'finally',\n",
       " 'for',\n",
       " 'from',\n",
       " 'global',\n",
       " 'if',\n",
       " 'import',\n",
       " 'in',\n",
       " 'is',\n",
       " 'lambda',\n",
       " 'nonlocal',\n",
       " 'not',\n",
       " 'or',\n",
       " 'pass',\n",
       " 'raise',\n",
       " 'return',\n",
       " 'try',\n",
       " 'while',\n",
       " 'with',\n",
       " 'yield']"
      ]
     },
     "execution_count": 10,
     "metadata": {},
     "output_type": "execute_result"
    }
   ],
   "source": [
    "import keyword\n",
    "keyword.kwlist"
   ]
  },
  {
   "cell_type": "markdown",
   "id": "a66bf88a-09db-46c8-b31e-5ba490bb19f0",
   "metadata": {},
   "source": [
    "- 변수명을 잘 정하는 것은 매우 중요하다.\n",
    "    - 이름만 보고도 어떤 내용인지 예상이 가도록 만든다.\n",
    "    - 너무 길지 않아야 함\n",
    "    - 카멜 표기법 (x)\n",
    "    - 의미없거나 이해하기 힘든 이름 (x)\n",
    "- 코드는 타인을 위해 작성하는 것임을 기억할 것."
   ]
  },
  {
   "cell_type": "code",
   "execution_count": null,
   "id": "eeb355f3-d4d1-4642-bb7d-d5d97e53d232",
   "metadata": {},
   "outputs": [],
   "source": [
    "# 카멜표기법:\n",
    "zenOfPython = 'hello world' # (x)\n",
    "zen_of_python = 'hello world' # (o)"
   ]
  },
  {
   "cell_type": "markdown",
   "id": "95a1aee2-12f3-4880-805a-9ef9857ed19e",
   "metadata": {},
   "source": [
    "- 할당할 때 주의점:\n",
    "    - 수학에서 '같다'와 프로그래밍에서 '같다'의 표기 방식이 다름\n",
    "    - = : 할당, == : 같다\n",
    "    - 할당은 반드시 오른쪽에서 왼쪽으로 이뤄짐\n",
    "    - 오른쪽 값이 리터럴이거나 \"이미 선언된\" 변수여야 가능함"
   ]
  },
  {
   "cell_type": "code",
   "execution_count": 11,
   "id": "38be1ce4-1fce-40c2-a7c7-3ea4fff8ecd0",
   "metadata": {},
   "outputs": [
    {
     "ename": "NameError",
     "evalue": "name 'x' is not defined",
     "output_type": "error",
     "traceback": [
      "\u001b[0;31m---------------------------------------------------------------------------\u001b[0m",
      "\u001b[0;31mNameError\u001b[0m                                 Traceback (most recent call last)",
      "Cell \u001b[0;32mIn[11], line 1\u001b[0m\n\u001b[0;32m----> 1\u001b[0m y \u001b[38;5;241m=\u001b[39m \u001b[43mx\u001b[49m \u001b[38;5;241m+\u001b[39m \u001b[38;5;241m1\u001b[39m\n",
      "\u001b[0;31mNameError\u001b[0m: name 'x' is not defined"
     ]
    }
   ],
   "source": [
    "y = x + 1 # NameError"
   ]
  },
  {
   "cell_type": "code",
   "execution_count": 12,
   "id": "c73bc04d-f8ba-4823-87f0-f56ace8fd6c4",
   "metadata": {},
   "outputs": [],
   "source": [
    "# 고치기 위해서는...\n",
    "x = 1\n",
    "y = x + 1"
   ]
  },
  {
   "cell_type": "markdown",
   "id": "e6c278a8-3f9e-410a-a391-984286fdcbdb",
   "metadata": {},
   "source": [
    "- 여러 변수에 같은 값을 한번에 할당할 수 있다.\n",
    "- 이때, 가변 객체를 주의할 것!"
   ]
  },
  {
   "cell_type": "code",
   "execution_count": 13,
   "id": "822b4699-734c-4705-8cab-d2877ec74476",
   "metadata": {},
   "outputs": [
    {
     "data": {
      "text/plain": [
       "2"
      ]
     },
     "execution_count": 13,
     "metadata": {},
     "output_type": "execute_result"
    }
   ],
   "source": [
    "two = deux = dul = 2\n",
    "dul"
   ]
  },
  {
   "cell_type": "code",
   "execution_count": 14,
   "id": "5e524013-f848-469b-9a7f-41edba6351d9",
   "metadata": {},
   "outputs": [
    {
     "data": {
      "text/plain": [
       "[1, 2, 3]"
      ]
     },
     "execution_count": 14,
     "metadata": {},
     "output_type": "execute_result"
    }
   ],
   "source": [
    "num1 = [1, 2, 3]\n",
    "num2 = num1\n",
    "num2"
   ]
  },
  {
   "cell_type": "code",
   "execution_count": 15,
   "id": "6b701f38-5cef-42b1-bb2a-b3885f66adb1",
   "metadata": {},
   "outputs": [
    {
     "data": {
      "text/plain": [
       "[10, 2, 3]"
      ]
     },
     "execution_count": 15,
     "metadata": {},
     "output_type": "execute_result"
    }
   ],
   "source": [
    "num1[0] = 10 # num1을 변경했는데 num2도 같이 변경됨\n",
    "num2"
   ]
  },
  {
   "cell_type": "markdown",
   "id": "dc384c8b-10c6-4603-a162-58068bceef40",
   "metadata": {},
   "source": [
    "### Exercise\n",
    "1. 58.99와 'Kate'를 각각 변수로 지정하고, 변수명에 신경쓰도록, 타입을 알아본다.\n",
    "2. 5 + 0.4j는 어떤 타입인지 알아본다."
   ]
  },
  {
   "cell_type": "code",
   "execution_count": null,
   "id": "8886a032-5138-4583-8f3e-dc0c4e6a4865",
   "metadata": {},
   "outputs": [],
   "source": []
  }
 ],
 "metadata": {
  "kernelspec": {
   "display_name": "MQM",
   "language": "python",
   "name": "mqm"
  },
  "language_info": {
   "codemirror_mode": {
    "name": "ipython",
    "version": 3
   },
   "file_extension": ".py",
   "mimetype": "text/x-python",
   "name": "python",
   "nbconvert_exporter": "python",
   "pygments_lexer": "ipython3",
   "version": "3.11.4"
  }
 },
 "nbformat": 4,
 "nbformat_minor": 5
}
